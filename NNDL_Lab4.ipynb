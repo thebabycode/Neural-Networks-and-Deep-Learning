{
  "nbformat": 4,
  "nbformat_minor": 0,
  "metadata": {
    "colab": {
      "provenance": [],
      "authorship_tag": "ABX9TyMuForJEgPtVsR+7IsdTM3Z",
      "include_colab_link": true
    },
    "kernelspec": {
      "name": "python3",
      "display_name": "Python 3"
    },
    "language_info": {
      "name": "python"
    }
  },
  "cells": [
    {
      "cell_type": "markdown",
      "metadata": {
        "id": "view-in-github",
        "colab_type": "text"
      },
      "source": [
        "<a href=\"https://colab.research.google.com/github/thebabycode/Neural-Networks-and-Deep-Learning/blob/main/NNDL_Lab4.ipynb\" target=\"_parent\"><img src=\"https://colab.research.google.com/assets/colab-badge.svg\" alt=\"Open In Colab\"/></a>"
      ]
    },
    {
      "cell_type": "markdown",
      "source": [
        "# Adaline"
      ],
      "metadata": {
        "id": "HV9Ayu-K7cu3"
      }
    },
    {
      "cell_type": "code",
      "execution_count": null,
      "metadata": {
        "id": "cWNcW8Dy7Wj_"
      },
      "outputs": [],
      "source": [
        "# import the module numpy\n",
        "import numpy as np\n",
        "# the features for the or model , here we have\n",
        "# taken the possible values for combination of\n",
        "# two inputs\n",
        "features = np.array(\n",
        "    [\n",
        "        [1, 1],\n",
        "        [1, -1],\n",
        "        [-1, 1],\n",
        "        [-1, -1]\n",
        "    ])\n",
        "\n",
        "# labels for the or model, here the output for\n",
        "# the features is taken as an array\n",
        "labels = np.array([1, 1, 1, -1])"
      ]
    },
    {
      "cell_type": "code",
      "source": [
        "# to print the features and the labels for\n",
        "# which the model has to be trained\n",
        "print(features, labels)"
      ],
      "metadata": {
        "colab": {
          "base_uri": "https://localhost:8080/"
        },
        "id": "XgzxDJeT7f8v",
        "outputId": "47eaef2b-51d5-4d8e-f5c9-2096b5d31ae9"
      },
      "execution_count": null,
      "outputs": [
        {
          "output_type": "stream",
          "name": "stdout",
          "text": [
            "[[ 1  1]\n",
            " [ 1 -1]\n",
            " [-1  1]\n",
            " [-1 -1]] [ 1  1  1 -1]\n"
          ]
        }
      ]
    },
    {
      "cell_type": "code",
      "source": [
        "# initialise weights, bias , learning rate, epoch\n",
        "weight = [0.1, 0.1]\n",
        "bias = 0.1\n",
        "learning_rate = 0.1\n",
        "epoch = 10"
      ],
      "metadata": {
        "id": "6wenC2QJ7g9o"
      },
      "execution_count": null,
      "outputs": []
    },
    {
      "cell_type": "code",
      "source": [
        "for i in range(epoch):\n",
        "   \n",
        "    # epoch is the number of the model is trained\n",
        "    # with the same data\n",
        "    print(\"epoch :\", i+1)\n",
        " \n",
        "    # variable to check if there is no change in previous\n",
        "    # weight and present calculated weight\n",
        "    # initial error is kept as 0\n",
        "    sum_squared_error = 0.0\n",
        " \n",
        "    # for each of the possible input given in the features\n",
        "    for j in range(features.shape[0]):\n",
        " \n",
        "        # actual output to be obtained\n",
        "        actual = labels[j]\n",
        " \n",
        "        # the value of two features as given in the features\n",
        "        # array\n",
        "        x1 = features[j][0]\n",
        "        x2 = features[j][1]\n",
        " \n",
        "        # net unit value computation performed to obtain the\n",
        "        # sum of features multiplied with their weights\n",
        "        unit = (x1 * weight[0]) + (x2 * weight[1]) + bias\n",
        " \n",
        "        # error is computed so as to update the weights\n",
        "        error = actual - unit\n",
        " \n",
        "        # print statement to print the actual value , predicted\n",
        "        # value and the error\n",
        "        print(\"error =\", error)\n",
        " \n",
        "        # summation of squared error is calculated\n",
        "        sum_squared_error += error * error\n",
        " \n",
        "        # updation of weights, summing up of product of learning rate ,\n",
        "        # sum of squared error and feature value\n",
        "        weight[0] += learning_rate * error * x1\n",
        "        weight[1] += learning_rate * error * x2\n",
        " \n",
        "        # updation of bias, summing up of product of learning rate and\n",
        "        # sum of squared error\n",
        "        bias += learning_rate * error\n",
        " \n",
        "    print(\"sum of squared error = \", sum_squared_error/4, \"\\n\\n\")"
      ],
      "metadata": {
        "colab": {
          "base_uri": "https://localhost:8080/"
        },
        "id": "PXk_ZYVm7iD4",
        "outputId": "8e04d426-fe78-4ebd-90ad-d4b3f1d11434"
      },
      "execution_count": null,
      "outputs": [
        {
          "output_type": "stream",
          "name": "stdout",
          "text": [
            "epoch : 1\n",
            "error = 0.7\n",
            "error = 0.8300000000000001\n",
            "error = 0.913\n",
            "error = -1.0043\n",
            "sum of squared error =  0.7552718725 \n",
            "\n",
            "\n",
            "epoch : 2\n",
            "error = 0.21527000000000007\n",
            "error = 0.751203\n",
            "error = 0.7931233000000001\n",
            "error = -0.83591563\n",
            "sum of squared error =  0.4846116573975468 \n",
            "\n",
            "\n",
            "epoch : 3\n",
            "error = -0.08733519300000014\n",
            "error = 0.6974795122999999\n",
            "error = 0.71725934353\n",
            "error = -0.7353483458829999\n",
            "sum of squared error =  0.3873258154221359 \n",
            "\n",
            "\n",
            "epoch : 4\n",
            "error = -0.2761433552713002\n",
            "error = 0.66111076307843\n",
            "error = 0.669341786894273\n",
            "error = -0.6754034326425002\n",
            "sum of squared error =  0.3543777045566816 \n",
            "\n",
            "\n",
            "epoch : 5\n",
            "error = -0.39388594695143064\n",
            "error = 0.6366406508037212\n",
            "error = 0.6391322538657562\n",
            "error = -0.639748288011841\n",
            "sum of squared error =  0.34455634185180345 \n",
            "\n",
            "\n",
            "epoch : 6\n",
            "error = -0.4672722821341333\n",
            "error = 0.6202637379637779\n",
            "error = 0.6201210085170047\n",
            "error = -0.6185895044697803\n",
            "sum of squared error =  0.34256838263198863 \n",
            "\n",
            "\n",
            "epoch : 7\n",
            "error = -0.5129880225889496\n",
            "error = 0.609354470132218\n",
            "error = 0.608177905680998\n",
            "error = -0.6060646929690626\n",
            "sum of squared error =  0.3429160896530115 \n",
            "\n",
            "\n",
            "epoch : 8\n",
            "error = -0.5414513226904927\n",
            "error = 0.602117521226608\n",
            "error = 0.6006878876653149\n",
            "error = -0.5986709582365854\n",
            "sum of squared error =  0.343736974708772 \n",
            "\n",
            "\n",
            "epoch : 9\n",
            "error = -0.5591635625961957\n",
            "error = 0.597334505708435\n",
            "error = 0.5959984240198419\n",
            "error = -0.5943193199980572\n",
            "sum of squared error =  0.3444754942505746 \n",
            "\n",
            "\n",
            "epoch : 10\n",
            "error = -0.5701797187899702\n",
            "error = 0.5941839002766915\n",
            "error = 0.5930671907203613\n",
            "error = -0.5917666049773423\n",
            "sum of squared error =  0.3450189566356955 \n",
            "\n",
            "\n"
          ]
        }
      ]
    },
    {
      "cell_type": "markdown",
      "source": [
        "# Madaline"
      ],
      "metadata": {
        "id": "8UZVE7R87mgz"
      }
    },
    {
      "cell_type": "code",
      "source": [
        "import numpy as np\n",
        "weight = [0.3, 0.2, 0.1, 0.3]\n",
        "\n",
        "learning_rate = 1\n",
        "epoch = 2"
      ],
      "metadata": {
        "id": "A66P0IJh7jNs"
      },
      "execution_count": null,
      "outputs": []
    },
    {
      "cell_type": "code",
      "source": [
        "features = np.array(\n",
        "\t[\n",
        "\t\t[1, 1],\n",
        "\t\t[1, -1],\n",
        "\t\t[-1, 1],\n",
        "\t\t[-1, -1]\n",
        "\t])\n",
        "\n",
        "\n",
        "labels = np.array([1, -1, -1, -1])\n",
        "print(features, labels)"
      ],
      "metadata": {
        "colab": {
          "base_uri": "https://localhost:8080/"
        },
        "id": "KtvS2R_77pMA",
        "outputId": "77d7eb1d-5580-4935-86d7-0a6a6ce8b709"
      },
      "execution_count": null,
      "outputs": [
        {
          "output_type": "stream",
          "name": "stdout",
          "text": [
            "[[ 1  1]\n",
            " [ 1 -1]\n",
            " [-1  1]\n",
            " [-1 -1]] [ 1 -1 -1 -1]\n"
          ]
        }
      ]
    },
    {
      "cell_type": "code",
      "source": [
        "v1 = 0.3\n",
        "v2 = 0.3\n",
        "b1 = 0.2\n",
        "b2 = 0.1\n",
        "b3 = 0.3\n",
        "\n",
        "for i in range(epoch):\n",
        "  print(\"epoch :\", i+1)\n",
        "  sum_squared_error = 0.0\n",
        "  for j in range(features.shape[0]):\n",
        "    print(j)\n",
        "    actual = labels[j]\n",
        "    x1 = features[j][0]\n",
        "    x2 = features[j][1]\n",
        "\n",
        "\n",
        "    print(\"B1 : \", b1,\" B2 : \", b2)\n",
        "    z1 = b1 + x1*weight[0] + x2*weight[2]\n",
        "    z2 = b2 + x1*weight[1] + x2*weight[3]\n",
        "\n",
        "    print(\"Z1 : \", z1, \" Z2: \", z2)\n",
        "\n",
        "    if(z1 > 0):\n",
        "      u_z1 = 1\n",
        "    if(z2 > 0):\n",
        "      u_z2 = 1\n",
        "    if(z1 < 0):\n",
        "      u_z1 = -1\n",
        "    if(z2 < 0):\n",
        "      u_z2 = -1\n",
        "    \n",
        "    print(\"Z1 : \", u_z1,\"Z2 : \", u_z2)\n",
        "\n",
        "    y = b3 + u_z1*v1 + u_z2*v2\n",
        "    print(\"Y : \", y)\n",
        "\n",
        "\n",
        "    if(y != actual):\n",
        "      # update weights\n",
        "      err1 = actual - z1\n",
        "      err2 = actual - z2\n",
        "\n",
        "      print(\"Error 1: \", err1)\n",
        "      print(\"Error 2: \", err2)\n",
        "\n",
        "      weight[0] = weight[0] + learning_rate * err1 * x1\n",
        "      # print(learning_rate,\" \" ,err1 , \" \", x1)\n",
        "      weight[1] = weight[1] + learning_rate * err2 * x1\n",
        "\n",
        "      \n",
        "      weight[2] = weight[2] + learning_rate * err1 * x2\n",
        "      weight[3] = weight[3] + learning_rate * err2 * x2\n",
        "\n",
        "\n",
        "      print(\"Weights : \",weight)\n",
        "\n",
        "      # bias\n",
        "      b1 = b1 + learning_rate * err1\n",
        "      b2 = b2 + learning_rate * err2\n",
        "\n",
        "      print(\"Bias : b1 = \",b1,\" b2 =  \",b2 )\n",
        "      print(\"------------------------------------------------\")"
      ],
      "metadata": {
        "colab": {
          "base_uri": "https://localhost:8080/"
        },
        "id": "N6E0QbVL7p3z",
        "outputId": "a99ad5c8-bc29-4e80-b2a4-f17f8fcb4c77"
      },
      "execution_count": null,
      "outputs": [
        {
          "output_type": "stream",
          "name": "stdout",
          "text": [
            "epoch : 1\n",
            "0\n",
            "B1 :  0.2  B2 :  0.1\n",
            "Z1 :  0.6  Z2:  0.6000000000000001\n",
            "Z1 :  1 Z2 :  1\n",
            "Y :  0.8999999999999999\n",
            "Error 1:  0.4\n",
            "Error 2:  0.3999999999999999\n",
            "Weights :  [0.7, 0.5999999999999999, 0.5, 0.7]\n",
            "Bias : b1 =  0.6000000000000001  b2 =   0.4999999999999999\n",
            "------------------------------------------------\n",
            "1\n",
            "B1 :  0.6000000000000001  B2 :  0.4999999999999999\n",
            "Z1 :  0.8  Z2:  0.3999999999999997\n",
            "Z1 :  1 Z2 :  1\n",
            "Y :  0.8999999999999999\n",
            "Error 1:  -1.8\n",
            "Error 2:  -1.3999999999999997\n",
            "Weights :  [-1.1, -0.7999999999999998, 2.3, 2.0999999999999996]\n",
            "Bias : b1 =  -1.2  b2 =   -0.8999999999999998\n",
            "------------------------------------------------\n",
            "2\n",
            "B1 :  -1.2  B2 :  -0.8999999999999998\n",
            "Z1 :  2.2  Z2:  1.9999999999999996\n",
            "Z1 :  1 Z2 :  1\n",
            "Y :  0.8999999999999999\n",
            "Error 1:  -3.2\n",
            "Error 2:  -2.9999999999999996\n",
            "Weights :  [2.1, 2.1999999999999997, -0.9000000000000004, -0.8999999999999999]\n",
            "Bias : b1 =  -4.4  b2 =   -3.8999999999999995\n",
            "------------------------------------------------\n",
            "3\n",
            "B1 :  -4.4  B2 :  -3.8999999999999995\n",
            "Z1 :  -5.6  Z2:  -5.199999999999999\n",
            "Z1 :  -1 Z2 :  -1\n",
            "Y :  -0.3\n",
            "Error 1:  4.6\n",
            "Error 2:  4.199999999999999\n",
            "Weights :  [-2.4999999999999996, -1.9999999999999996, -5.5, -5.1]\n",
            "Bias : b1 =  0.1999999999999993  b2 =   0.2999999999999998\n",
            "------------------------------------------------\n",
            "epoch : 2\n",
            "0\n",
            "B1 :  0.1999999999999993  B2 :  0.2999999999999998\n",
            "Z1 :  -7.800000000000001  Z2:  -6.799999999999999\n",
            "Z1 :  -1 Z2 :  -1\n",
            "Y :  -0.3\n",
            "Error 1:  8.8\n",
            "Error 2:  7.799999999999999\n",
            "Weights :  [6.300000000000001, 5.799999999999999, 3.3000000000000007, 2.6999999999999993]\n",
            "Bias : b1 =  9.0  b2 =   8.099999999999998\n",
            "------------------------------------------------\n",
            "1\n",
            "B1 :  9.0  B2 :  8.099999999999998\n",
            "Z1 :  12.0  Z2:  11.199999999999998\n",
            "Z1 :  1 Z2 :  1\n",
            "Y :  0.8999999999999999\n",
            "Error 1:  -13.0\n",
            "Error 2:  -12.199999999999998\n",
            "Weights :  [-6.699999999999999, -6.399999999999999, 16.3, 14.899999999999997]\n",
            "Bias : b1 =  -4.0  b2 =   -4.1\n",
            "------------------------------------------------\n",
            "2\n",
            "B1 :  -4.0  B2 :  -4.1\n",
            "Z1 :  19.0  Z2:  17.199999999999996\n",
            "Z1 :  1 Z2 :  1\n",
            "Y :  0.8999999999999999\n",
            "Error 1:  -20.0\n",
            "Error 2:  -18.199999999999996\n",
            "Weights :  [13.3, 11.799999999999997, -3.6999999999999993, -3.299999999999999]\n",
            "Bias : b1 =  -24.0  b2 =   -22.299999999999997\n",
            "------------------------------------------------\n",
            "3\n",
            "B1 :  -24.0  B2 :  -22.299999999999997\n",
            "Z1 :  -33.599999999999994  Z2:  -30.799999999999997\n",
            "Z1 :  -1 Z2 :  -1\n",
            "Y :  -0.3\n",
            "Error 1:  32.599999999999994\n",
            "Error 2:  29.799999999999997\n",
            "Weights :  [-19.299999999999994, -18.0, -36.3, -33.099999999999994]\n",
            "Bias : b1 =  8.599999999999994  b2 =   7.5\n",
            "------------------------------------------------\n"
          ]
        }
      ]
    }
  ]
}