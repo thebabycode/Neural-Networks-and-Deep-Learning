{
  "nbformat": 4,
  "nbformat_minor": 0,
  "metadata": {
    "colab": {
      "provenance": [],
      "authorship_tag": "ABX9TyPZVta6E2oGhYls4kPfe+Cm",
      "include_colab_link": true
    },
    "kernelspec": {
      "name": "python3",
      "display_name": "Python 3"
    },
    "language_info": {
      "name": "python"
    }
  },
  "cells": [
    {
      "cell_type": "markdown",
      "metadata": {
        "id": "view-in-github",
        "colab_type": "text"
      },
      "source": [
        "<a href=\"https://colab.research.google.com/github/thebabycode/Neural-Networks-and-Deep-Learning/blob/main/NNDL_Lab3.ipynb\" target=\"_parent\"><img src=\"https://colab.research.google.com/assets/colab-badge.svg\" alt=\"Open In Colab\"/></a>"
      ]
    },
    {
      "cell_type": "markdown",
      "source": [
        "#Explore MLP"
      ],
      "metadata": {
        "id": "2m4bLhfOaakC"
      }
    },
    {
      "cell_type": "markdown",
      "source": [
        "Multi-layer Perceptron (MLP) is a supervised learning algorithm that learns a function  by training on a dataset, where  is the number of dimensions for input and  is the number of dimensions for output. Given a set of features  and a target , it can learn a non-linear function approximator for either classification or regression."
      ],
      "metadata": {
        "id": "NGuMz-JM6qn7"
      }
    },
    {
      "cell_type": "markdown",
      "source": [
        "hidden_layer_sizes : This parameter allows us to set the number of layers and the number of nodes we wish to have in the Neural Network Classifier. Each element in the tuple represents the number of nodes at the ith position where i is the index of the tuple. Thus the length of tuple denotes the total number of hidden layers in the network.\n",
        "\n",
        "max_iter: It denotes the number of epochs.\n",
        "\n",
        "activation: The activation function for the hidden layers.\n",
        "\n",
        "solver: This parameter specifies the algorithm for weight optimization across the nodes.\n",
        "\n",
        "random_state: The parameter allows to set a seed for reproducing the same results"
      ],
      "metadata": {
        "id": "NAeyuQJYZfjl"
      }
    },
    {
      "cell_type": "markdown",
      "source": [
        "#Summary of Parameters"
      ],
      "metadata": {
        "id": "dM0M284YafUb"
      }
    },
    {
      "cell_type": "markdown",
      "source": [
        "hidden_layer_sizestuple, length = n_layers - 2, default=(100,)\n",
        "The ith element represents the number of neurons in the ith hidden layer.\n",
        "\n",
        "activation{‘identity’, ‘logistic’, ‘tanh’, ‘relu’}, default=’relu’\n",
        "Activation function for the hidden layer.\n",
        "\n",
        "‘identity’, no-op activation, useful to implement linear bottleneck, returns f(x) = x\n",
        "\n",
        "‘logistic’, the logistic sigmoid function, returns f(x) = 1 / (1 + exp(-x)).\n",
        "\n",
        "‘tanh’, the hyperbolic tan function, returns f(x) = tanh(x).\n",
        "\n",
        "‘relu’, the rectified linear unit function, returns f(x) = max(0, x)\n",
        "\n"
      ],
      "metadata": {
        "id": "vDs_qfe39_Y6"
      }
    },
    {
      "cell_type": "markdown",
      "source": [
        "solver{‘lbfgs’, ‘sgd’, ‘adam’}, default=’adam’\n",
        "The solver for weight optimization.\n",
        "\n",
        "‘lbfgs’ is an optimizer in the family of quasi-Newton methods.\n",
        "\n",
        "‘sgd’ refers to stochastic gradient descent.\n",
        "\n",
        "‘adam’ refers to a stochastic gradient-based optimizer proposed by Kingma, Diederik, and Jimmy Ba\n",
        "\n",
        "Note: The default solver ‘adam’ works pretty well on relatively large datasets (with thousands of training samples or more) in terms of both training time and validation score.\n",
        "\n",
        "For small datasets, however, ‘lbfgs’ can converge faster and perform better."
      ],
      "metadata": {
        "id": "LJePneQlbVna"
      }
    },
    {
      "cell_type": "code",
      "source": [
        "import numpy as np\n",
        "import sklearn\n",
        "from sklearn import preprocessing\n",
        "from sklearn.neural_network import MLPClassifier"
      ],
      "metadata": {
        "id": "aIEL34Ir6uBm"
      },
      "execution_count": null,
      "outputs": []
    },
    {
      "cell_type": "markdown",
      "source": [
        "#XOR"
      ],
      "metadata": {
        "id": "NjUOucbzcdyE"
      }
    },
    {
      "cell_type": "code",
      "source": [
        "input = np.array([\n",
        "    0, 0,\n",
        "    0, 1,\n",
        "    1, 0,\n",
        "    1, 1\n",
        "]).reshape(4, 2)\n",
        "print(\" input values X  and Y :\\n\",input)\n",
        "\n",
        "actual_output = np.array([0, 1, 1, 0]).reshape(4,)\n",
        "print(\" the expected output is \\n\",actual_output)"
      ],
      "metadata": {
        "colab": {
          "base_uri": "https://localhost:8080/"
        },
        "id": "L793DcFk6uF2",
        "outputId": "c9f8bf1c-d666-4c78-b4b4-ccab84e02d65"
      },
      "execution_count": null,
      "outputs": [
        {
          "output_type": "stream",
          "name": "stdout",
          "text": [
            " input values X  and Y :\n",
            " [[0 0]\n",
            " [0 1]\n",
            " [1 0]\n",
            " [1 1]]\n",
            " the expected output is \n",
            " [0 1 1 0]\n"
          ]
        }
      ]
    },
    {
      "cell_type": "code",
      "source": [
        "model = sklearn.neural_network.MLPClassifier(\n",
        "    activation='relu',solver='sgd', max_iter=10000, hidden_layer_sizes=(4,2))\n",
        "model.fit(input, actual_output)\n",
        "\n",
        "print('model score:', model.score(input, actual_output)) \n",
        "print('predicted output:', model.predict(input)) \n",
        "print('expected output:', np.array([0, 1, 1, 0]))\n",
        "print(model.coefs_)\n"
      ],
      "metadata": {
        "colab": {
          "base_uri": "https://localhost:8080/"
        },
        "id": "R7wedqts6uKO",
        "outputId": "bcb7c338-00f8-4f7a-938d-5ec9e1137467"
      },
      "execution_count": null,
      "outputs": [
        {
          "output_type": "stream",
          "name": "stdout",
          "text": [
            "model score: 1.0\n",
            "predicted output: [0 1 1 0]\n",
            "expected output: [0 1 1 0]\n",
            "[array([[ 1.16660146, -0.10559167, -0.91010311, -0.99688677],\n",
            "       [ 1.16696446, -0.04886255,  1.37166369,  0.03374334]]), array([[-1.54728126,  1.49084288],\n",
            "       [-0.3687397 , -0.79798713],\n",
            "       [ 1.25603498, -0.70502781],\n",
            "       [-1.3535689 ,  0.39860443]]), array([[ 2.61475938],\n",
            "       [-1.66831793]])]\n"
          ]
        }
      ]
    },
    {
      "cell_type": "code",
      "source": [
        "model = sklearn.neural_network.MLPClassifier(\n",
        "    activation='relu',solver='adam', max_iter=10000, hidden_layer_sizes=(4,2))\n",
        "model.fit(input, actual_output)\n",
        "\n",
        "print('model score:', model.score(input, actual_output)) \n",
        "print('predicted output:', model.predict(input)) \n",
        "print('expected output:', np.array([0, 1, 1, 0]))\n",
        "print(model.coefs_)\n"
      ],
      "metadata": {
        "colab": {
          "base_uri": "https://localhost:8080/"
        },
        "id": "Y7k2Yk9UfMCB",
        "outputId": "a1e1feb9-8e50-4cfe-bf9c-2871b91bbd4c"
      },
      "execution_count": null,
      "outputs": [
        {
          "output_type": "stream",
          "name": "stdout",
          "text": [
            "model score: 1.0\n",
            "predicted output: [0 1 1 0]\n",
            "expected output: [0 1 1 0]\n",
            "[array([[-7.99231477e-01, -1.09053981e+00, -5.00156375e-21,\n",
            "        -8.25375797e-01],\n",
            "       [-7.99363151e-01, -1.09083988e+00,  1.61216229e-06,\n",
            "        -8.25911332e-01]]), array([[ 1.87002987e+00, -1.37903314e+00],\n",
            "       [-1.63640155e+00,  1.93553610e+00],\n",
            "       [ 2.44209825e-03, -3.03693228e-36],\n",
            "       [-8.16467150e-01,  2.33576531e+00]]), array([[ 2.34867633],\n",
            "       [-1.84369638]])]\n"
          ]
        }
      ]
    },
    {
      "cell_type": "code",
      "source": [
        "model = sklearn.neural_network.MLPClassifier(\n",
        "    activation='tanh',solver='lbfgs', max_iter=10000, hidden_layer_sizes=(4,2))\n",
        "model.fit(input, actual_output)\n",
        "\n",
        "print('model score:', model.score(input, actual_output)) \n",
        "print('predicted output:', model.predict(input)) \n",
        "print('expected output:', np.array([0, 1, 1, 0]))\n",
        "print(model.coefs_)\n"
      ],
      "metadata": {
        "colab": {
          "base_uri": "https://localhost:8080/"
        },
        "id": "yZNR97606uOp",
        "outputId": "4269eddf-9ec1-4da4-d44e-c21dc63e8a86"
      },
      "execution_count": null,
      "outputs": [
        {
          "output_type": "stream",
          "name": "stdout",
          "text": [
            "model score: 1.0\n",
            "predicted output: [0 1 1 0]\n",
            "expected output: [0 1 1 0]\n",
            "[array([[ 0.7590344 ,  1.5367596 , -0.32331984, -1.80644109],\n",
            "       [-0.35119925, -1.84410419, -0.29724773,  2.3232241 ]]), array([[-0.36928357, -0.41570933],\n",
            "       [ 0.89301852,  2.87650058],\n",
            "       [-0.03176853,  0.91972259],\n",
            "       [ 0.39115829,  3.03530492]]), array([[-0.46661804],\n",
            "       [-8.82565836]])]\n"
          ]
        }
      ]
    },
    {
      "cell_type": "code",
      "source": [
        "# lbfgs’, ‘sgd’, ‘adam’\n",
        "model = sklearn.neural_network.MLPClassifier(\n",
        "    activation='logistic',solver='lbfgs', max_iter=10000, hidden_layer_sizes=(4,2))\n",
        "model.fit(input, actual_output)\n",
        "print(model.coefs_[1])\n",
        "print('model score:', model.score(input, actual_output)) \n",
        "print('predicted output:', model.predict(input)) \n",
        "print('expected output:', np.array([0, 1, 1, 0]))\n",
        "print(model.coefs_)\n"
      ],
      "metadata": {
        "colab": {
          "base_uri": "https://localhost:8080/"
        },
        "id": "m3LO8e9n6uTY",
        "outputId": "b0d88d48-4ce5-4549-bcfb-6a64c04e1219"
      },
      "execution_count": null,
      "outputs": [
        {
          "output_type": "stream",
          "name": "stdout",
          "text": [
            "[[ 3.76994212 -6.62133386]\n",
            " [-0.2753963   0.80230956]\n",
            " [-1.82159125  2.60732572]\n",
            " [-2.79035065  5.00786113]]\n",
            "model score: 1.0\n",
            "predicted output: [0 1 1 0]\n",
            "expected output: [0 1 1 0]\n",
            "[array([[4.60298389, 0.31257021, 2.44906389, 3.92082107],\n",
            "       [4.72851497, 0.40838812, 2.99598954, 3.64772646]]), array([[ 3.76994212, -6.62133386],\n",
            "       [-0.2753963 ,  0.80230956],\n",
            "       [-1.82159125,  2.60732572],\n",
            "       [-2.79035065,  5.00786113]]), array([[  5.46548763],\n",
            "       [-13.48872725]])]\n"
          ]
        }
      ]
    },
    {
      "cell_type": "code",
      "source": [
        "model = sklearn.neural_network.MLPClassifier(\n",
        "    activation='identity',solver='sgd',  max_iter=10000, hidden_layer_sizes=(4,3))\n",
        "model.fit(input, actual_output)\n",
        "\n",
        "print('model score:', model.score(input, actual_output)) \n",
        "print('predicted output:', model.predict(input)) \n",
        "print('expected output:', np.array([0, 1, 1, 0]))\n"
      ],
      "metadata": {
        "colab": {
          "base_uri": "https://localhost:8080/"
        },
        "id": "2lgyPyOZ6uYS",
        "outputId": "420ae0b9-f5d2-4b81-9958-712db3cb6a5e"
      },
      "execution_count": null,
      "outputs": [
        {
          "output_type": "stream",
          "name": "stdout",
          "text": [
            "model score: 0.75\n",
            "predicted output: [0 1 1 1]\n",
            "expected output: [0 1 1 0]\n"
          ]
        }
      ]
    },
    {
      "cell_type": "code",
      "source": [
        "model = sklearn.neural_network.MLPClassifier(\n",
        "    activation='identity',solver='lbfgs',  max_iter=10000, hidden_layer_sizes=(4,3))\n",
        "model.fit(input, actual_output)\n",
        "\n",
        "print('model score:', model.score(input, actual_output)) \n",
        "print('predicted output:', model.predict(input)) \n",
        "print('expected output:', np.array([0, 1, 1, 0]))\n"
      ],
      "metadata": {
        "colab": {
          "base_uri": "https://localhost:8080/"
        },
        "id": "zk5J_ZGkfzg3",
        "outputId": "0f5cf4ec-1372-46c4-b99a-4be70cd6e7e6"
      },
      "execution_count": null,
      "outputs": [
        {
          "output_type": "stream",
          "name": "stdout",
          "text": [
            "model score: 0.25\n",
            "predicted output: [1 1 0 1]\n",
            "expected output: [0 1 1 0]\n"
          ]
        }
      ]
    },
    {
      "cell_type": "code",
      "source": [
        "model = sklearn.neural_network.MLPClassifier(\n",
        "    activation='identity',solver='adam',  max_iter=10000, hidden_layer_sizes=(4,3))\n",
        "model.fit(input, actual_output)\n",
        "\n",
        "print('model score:', model.score(input, actual_output)) \n",
        "print('predicted output:', model.predict(input)) \n",
        "print('expected output:', np.array([0, 1, 1, 0]))\n",
        "print(model.coefs_)\n"
      ],
      "metadata": {
        "colab": {
          "base_uri": "https://localhost:8080/"
        },
        "id": "qjzNqsOPf6Zl",
        "outputId": "277441fa-eb58-4326-c584-a3f33977e54c"
      },
      "execution_count": null,
      "outputs": [
        {
          "output_type": "stream",
          "name": "stdout",
          "text": [
            "model score: 0.5\n",
            "predicted output: [1 1 0 0]\n",
            "expected output: [0 1 1 0]\n",
            "[array([[ 0.08111146,  0.09309657,  0.75117389,  0.44926889],\n",
            "       [ 0.27371772, -0.52647821,  0.25183616,  0.1371285 ]]), array([[-4.30431447e-01,  9.16631302e-01,  2.14498372e-04],\n",
            "       [-8.63046022e-01, -3.12617333e-01,  1.46074174e-01],\n",
            "       [-1.51632867e-01,  6.45416566e-01, -3.84743179e-01],\n",
            "       [ 4.38066139e-01, -5.65595842e-01,  7.36755258e-01]]), array([[ 1.04599174],\n",
            "       [-1.0398871 ],\n",
            "       [-0.40530059]])]\n"
          ]
        }
      ]
    },
    {
      "cell_type": "markdown",
      "source": [
        "From comparing the predicted and expected ouput with all other activation functions we observe that \"identity activation\" with solver \"lbfgs\" doesnt give expected output with its predcited output"
      ],
      "metadata": {
        "id": "xRuZRK_Fb4sV"
      }
    }
  ]
}